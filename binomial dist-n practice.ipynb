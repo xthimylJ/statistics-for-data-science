{
 "cells": [
  {
   "cell_type": "code",
   "execution_count": 1,
   "id": "7d66cf93-a532-47d9-8159-e0f72caa2e4e",
   "metadata": {},
   "outputs": [
    {
     "name": "stdout",
     "output_type": "stream",
     "text": [
      "Hello world!\n"
     ]
    }
   ],
   "source": [
    "print(\"Hello world!\")"
   ]
  },
  {
   "cell_type": "code",
   "execution_count": 41,
   "id": "6dae4916-7c5c-4ef2-81dc-168b4d697669",
   "metadata": {},
   "outputs": [],
   "source": [
    "import numpy as np\n",
    "import pandas as pd\n",
    "import yfinance as yf\n",
    "from scipy.stats import binom\n",
    "import matplotlib.pyplot as plt"
   ]
  },
  {
   "cell_type": "markdown",
   "id": "a4eb71c5-4670-4e71-92b7-3f5084b6e2ad",
   "metadata": {},
   "source": [
    "## Testing on a word problem froms the internet\n"
   ]
  },
  {
   "cell_type": "markdown",
   "id": "4a4d916f-1bad-43a1-aacc-ecb4fdc47628",
   "metadata": {},
   "source": [
    "A six sided die is rolled 12 times. What is the probability of getting \"4\" five times?"
   ]
  },
  {
   "cell_type": "code",
   "execution_count": 3,
   "id": "9b357235-0a80-4ff5-b891-38bc1cd8f281",
   "metadata": {},
   "outputs": [
    {
     "name": "stdout",
     "output_type": "stream",
     "text": [
      "2.84%\n"
     ]
    }
   ],
   "source": [
    "# solution\n",
    "prob = binom.pmf(n=12, k=5, p=1/6)\n",
    "print(str(round(prob*100, 2)) + \"%\")\n"
   ]
  },
  {
   "cell_type": "markdown",
   "id": "ef855705-e01b-4819-9694-b2370d4188a6",
   "metadata": {},
   "source": [
    "Ira ran out of time while taking a multiple-choice test and plans to guess on the last \n",
    "\\[6\\] questions. Each question has \n",
    "\\[4\\] possible choices, one of which is correct. Let \n",
    "\\[X=\\] the number of answers Ira correctly guesses in the last \n",
    "\\[6\\] questions.\n",
    "What is the probability that he answers fewer than \n",
    "\\[2\\] questions correctly in the last \n",
    "\\[6\\] questions?\n",
    "\n",
    "**well, this problem is about cumulative distribution function. I will practice it later** "
   ]
  },
  {
   "cell_type": "code",
   "execution_count": 4,
   "id": "1f45f2d3-0421-4797-a9b8-ca25c31f876c",
   "metadata": {},
   "outputs": [
    {
     "name": "stdout",
     "output_type": "stream",
     "text": [
      "35.6%\n",
      "17.8%\n",
      "0.533935546875\n"
     ]
    }
   ],
   "source": [
    "prob = binom.pmf(n=6, k=1, p=1/4)\n",
    "print(str(round(prob*100, 2)) + \"%\")\n",
    "\n",
    "prob1 = binom.pmf(n=6, k=0, p=1/4)\n",
    "print(str(round(prob1*100, 2)) + \"%\")\n",
    "\n",
    "print(prob + prob1)"
   ]
  },
  {
   "cell_type": "markdown",
   "id": "142fbaf3-47a9-4fff-91f4-13a3f5c3f3e8",
   "metadata": {},
   "source": [
    "Isaac's favorite cereal is running a promotion that says \n",
    "\\[1\\]-in-\n",
    "\\[4\\] boxes of the cereal contains a prize. Suppose that Isaac is going to buy \n",
    "\\[6\\] boxes of this cereal, and let \n",
    "\\[X\\] represent the number of prizes he wins in these boxes. Assume that these boxes represent a random sample, and assume that prizes are independent between boxes.\n",
    "What is the probability that he wins exactly \n",
    "\\[2\\] prizes in the \n",
    "\\[6\\] boxes?"
   ]
  },
  {
   "cell_type": "code",
   "execution_count": 5,
   "id": "829bba0b-87f5-43dd-b296-f1c913d8650d",
   "metadata": {},
   "outputs": [
    {
     "name": "stdout",
     "output_type": "stream",
     "text": [
      "29.66%\n",
      "0.296630859375\n"
     ]
    }
   ],
   "source": [
    "prob1 = binom.pmf(n=6, k=2, p=1/4)\n",
    "print(str(round(prob1*100, 2)) + \"%\")\n",
    "print(prob1)"
   ]
  },
  {
   "cell_type": "markdown",
   "id": "db53c323-1cc2-416f-bc11-33df8b8a5e06",
   "metadata": {},
   "source": [
    "Marta makes \n",
    "\\[90\\%\\] of the free throws she attempts. She is going to shoot \n",
    "\\[3\\] free throws. Assume that the results of free throws are independent from each other. Let \n",
    "\\[X\\] represent the number of free throws she makes.\n",
    "Find the probability that Marta makes at least \n",
    "\\[2\\] of the \n",
    "\\[3\\] free throws.\n"
   ]
  },
  {
   "cell_type": "code",
   "execution_count": 6,
   "id": "f8f9f7b7-5fbd-4093-a07e-23678b271603",
   "metadata": {},
   "outputs": [
    {
     "name": "stdout",
     "output_type": "stream",
     "text": [
      "0.972\n"
     ]
    }
   ],
   "source": [
    "prob = binom.pmf(n=3, k=2, p=0.9)\n",
    "prob1 = binom.pmf(n=3, k=3, p=0.9)\n",
    "print(prob+prob1) "
   ]
  },
  {
   "cell_type": "markdown",
   "id": "da6941b4-8419-4678-a09b-3dbac215be1c",
   "metadata": {},
   "source": [
    "Heather has a coin that has a \n",
    "\\[60\\%\\] chance of showing heads each time it is flipped. She is going to flip the coin \n",
    "\\[5\\] times. Let \n",
    "\\[X\\] represent the number of heads she gets.\n",
    "What is the probability that she gets exactly \n",
    "\\[3\\] heads?"
   ]
  },
  {
   "cell_type": "code",
   "execution_count": 7,
   "id": "c41e3d6a-7594-4313-a0f8-e4a0a155aa85",
   "metadata": {},
   "outputs": [
    {
     "data": {
      "text/plain": [
       "0.3455999999999997"
      ]
     },
     "execution_count": 7,
     "metadata": {},
     "output_type": "execute_result"
    }
   ],
   "source": [
    "prob = binom.pmf(n=5, k=3, p=0.6)\n",
    "prob"
   ]
  },
  {
   "cell_type": "markdown",
   "id": "71ce7310-3042-4581-af35-7cc54cdc8998",
   "metadata": {},
   "source": [
    "A transistor manufacturer has known that 5% of the transistors produced are defective. What is the probability that a batch of twenty five transistors will have two defective?"
   ]
  },
  {
   "cell_type": "code",
   "execution_count": 8,
   "id": "8f0147d5-469e-4a05-8d70-80c8282164fd",
   "metadata": {},
   "outputs": [
    {
     "data": {
      "text/plain": [
       "0.23051765079376796"
      ]
     },
     "execution_count": 8,
     "metadata": {},
     "output_type": "execute_result"
    }
   ],
   "source": [
    "defec = binom.pmf(n=25, k=2, p=0.05)\n",
    "defec"
   ]
  },
  {
   "cell_type": "markdown",
   "id": "02898ba6-75de-4e1f-8803-5c677938f6d5",
   "metadata": {},
   "source": [
    "## Cumulative distribution problems"
   ]
  },
  {
   "cell_type": "markdown",
   "id": "1a2636eb-9edd-49c7-8794-1d54be1e32fe",
   "metadata": {},
   "source": [
    "### CDF: \n",
    "$$F(x) = P(X \\le x)$$"
   ]
  },
  {
   "cell_type": "markdown",
   "id": "04acfb77-f9f9-4411-820f-952cd2363017",
   "metadata": {},
   "source": [
    "**Question 1**: What is the probability that a family of five children will have **at least** three boys?"
   ]
  },
  {
   "cell_type": "markdown",
   "id": "d320c39f-2919-4e09-b845-9a9ec1eafc3d",
   "metadata": {},
   "source": [
    "**Solution**: P(X=3) + P(X=4) + P(X=5)"
   ]
  },
  {
   "cell_type": "code",
   "execution_count": 9,
   "id": "b52e3f22-ba7a-4cbc-b087-a871cf011d6c",
   "metadata": {},
   "outputs": [
    {
     "name": "stdout",
     "output_type": "stream",
     "text": [
      "probability: 0.5\n"
     ]
    }
   ],
   "source": [
    "sol = 1 - binom.cdf(k=2, n=5, p=0.5)\n",
    "print(f\"probability: {sol}\")"
   ]
  },
  {
   "cell_type": "markdown",
   "id": "88ddee2d-347b-401b-b582-68f9a94909c2",
   "metadata": {},
   "source": [
    "**Question 2:** A telemarketing executive has determined that for a particular product, 20% of the people contacted will purchase the product. If 10 people are contacted, what is the probability that at most 2 will buy the product?"
   ]
  },
  {
   "cell_type": "code",
   "execution_count": 10,
   "id": "262bf252-2f20-47e9-a0d5-7af656a9d9ea",
   "metadata": {},
   "outputs": [
    {
     "name": "stdout",
     "output_type": "stream",
     "text": [
      "probability: 0.6777995263999999\n"
     ]
    }
   ],
   "source": [
    "# solution Q2:\n",
    "p = 0.2\n",
    "n = 10\n",
    "k = 2\n",
    "sol2 = binom.cdf(k, n, p)\n",
    "print(f\"probability: {sol2}\")"
   ]
  },
  {
   "cell_type": "markdown",
   "id": "2c36f09a-80dd-4ebf-a704-508e56fab8d3",
   "metadata": {},
   "source": [
    "**Question 3:** It has been determined that only 80% of the people wear seat belts. If a police officer stops a car with four people, what is the probability that at least one person will not be wearing a seat belt?"
   ]
  },
  {
   "cell_type": "code",
   "execution_count": 11,
   "id": "a286ccf9-5127-41c7-829f-30fd80e07d36",
   "metadata": {},
   "outputs": [
    {
     "data": {
      "text/plain": [
       "0.8191999999999999"
      ]
     },
     "execution_count": 11,
     "metadata": {},
     "output_type": "execute_result"
    }
   ],
   "source": [
    "# solution Q3:\n",
    "p = 0.2\n",
    "n = 4\n",
    "k = 1\n",
    "sol3 = binom.cdf(k, n,p)\n",
    "sol3"
   ]
  },
  {
   "cell_type": "markdown",
   "id": "546963c1-895a-4a7e-b513-d8ed541a39d1",
   "metadata": {},
   "source": [
    "**Question 4:** What is the probability that a toss of four coins will yield at most two heads?"
   ]
  },
  {
   "cell_type": "code",
   "execution_count": 12,
   "id": "9f2b3609-9999-49f2-a585-9b65f4f58c36",
   "metadata": {},
   "outputs": [
    {
     "data": {
      "text/plain": [
       "0.6875"
      ]
     },
     "execution_count": 12,
     "metadata": {},
     "output_type": "execute_result"
    }
   ],
   "source": [
    "n = 4\n",
    "k = 2\n",
    "p = 0.5\n",
    "sol4 = binom.cdf(k, n, p)\n",
    "sol4"
   ]
  },
  {
   "cell_type": "code",
   "execution_count": null,
   "id": "e2f2f4c9-6c8e-49e7-a8d5-cfb7fad5f5df",
   "metadata": {},
   "outputs": [],
   "source": []
  },
  {
   "cell_type": "markdown",
   "id": "472985ae-42d9-4ad5-8e58-694ff6402022",
   "metadata": {},
   "source": [
    "### Now let's make the \"r\" parameter a list of values"
   ]
  },
  {
   "cell_type": "code",
   "execution_count": 13,
   "id": "2f8adc65-69d3-4143-b773-7e6d84fe6433",
   "metadata": {},
   "outputs": [
    {
     "name": "stdout",
     "output_type": "stream",
     "text": [
      "[  0   1   2   3   4   5   6   7   8   9  10  11  12  13  14  15  16  17\n",
      "  18  19  20  21  22  23  24  25  26  27  28  29  30  31  32  33  34  35\n",
      "  36  37  38  39  40  41  42  43  44  45  46  47  48  49  50  51  52  53\n",
      "  54  55  56  57  58  59  60  61  62  63  64  65  66  67  68  69  70  71\n",
      "  72  73  74  75  76  77  78  79  80  81  82  83  84  85  86  87  88  89\n",
      "  90  91  92  93  94  95  96  97  98  99 100]\n",
      "[1.20746735e-08 2.41493469e-07 2.39078535e-06 1.56197976e-05\n",
      " 7.57560184e-05 2.90903111e-04 9.21193183e-04 2.47406169e-03\n",
      " 5.75219344e-03 1.17600399e-02 2.14032726e-02 3.50235371e-02\n",
      " 5.19515800e-02 7.03344467e-02 8.74156695e-02 1.00236634e-01\n",
      " 1.06501424e-01 1.05248466e-01 9.70624743e-02 8.37802409e-02\n",
      " 6.78619952e-02 5.17043773e-02 3.71331437e-02 2.51859583e-02\n",
      " 1.61609899e-02 9.82588187e-03 5.66877800e-03 3.10733016e-03\n",
      " 1.62025073e-03 8.04538293e-04 3.80814792e-04 1.71980874e-04\n",
      " 7.41667518e-05 3.05656917e-05 1.20464785e-05 4.54324331e-06\n",
      " 1.64061564e-06 5.67564330e-07 1.88192383e-07 5.98355269e-08\n",
      " 1.82498357e-08 5.34141533e-09 1.50068335e-09 4.04835509e-10\n",
      " 1.04889200e-10 2.61057565e-11 6.24268090e-12 1.43448838e-12\n",
      " 3.16782850e-13 6.72355436e-14 1.37160509e-14 2.68942175e-15\n",
      " 5.06852560e-16 9.18072561e-17 1.59812631e-17 2.67322946e-18\n",
      " 4.29626164e-19 6.63282499e-20 9.83487843e-21 1.40021998e-21\n",
      " 1.91363397e-22 2.50968390e-23 3.15734426e-24 3.80885974e-25\n",
      " 4.40399407e-26 4.87827036e-27 5.17392311e-28 5.25114584e-29\n",
      " 5.09670038e-30 4.72737426e-31 4.18710292e-32 3.53839683e-33\n",
      " 2.85037523e-34 2.18658921e-35 1.59561916e-36 1.10629595e-37\n",
      " 7.27826282e-39 4.53709890e-40 2.67572499e-41 1.49027721e-42\n",
      " 7.82395536e-44 3.86368166e-45 1.79048662e-46 7.76596607e-48\n",
      " 3.14336722e-49 1.18338531e-50 4.12808828e-52 1.32858013e-53\n",
      " 3.92535040e-55 1.05852146e-56 2.58749689e-58 5.68680636e-60\n",
      " 1.11263603e-61 1.91421252e-63 2.85095481e-65 3.60120608e-67\n",
      " 3.75125633e-69 3.09381966e-71 1.89417530e-73 7.65323354e-76\n",
      " 1.53064671e-78]\n"
     ]
    }
   ],
   "source": [
    "n = 100\n",
    "r = np.arange(0, n+1) # number of desired successes\n",
    "p = 1/6\n",
    "\n",
    "prob_dist = binom.pmf(r,n, p)\n",
    "print(r)\n",
    "print(prob_dist)"
   ]
  },
  {
   "cell_type": "code",
   "execution_count": 14,
   "id": "2b3be767-eac1-4232-802c-9b93ce8f0dac",
   "metadata": {},
   "outputs": [
    {
     "data": {
      "image/png": "[encoded data removed]",
      "text/plain": [
       "<Figure size 640x480 with 1 Axes>"
      ]
     },
     "metadata": {},
     "output_type": "display_data"
    }
   ],
   "source": [
    "plt.bar(r, prob_dist)\n",
    "plt.xlabel(\"Number of desired successes\")\n",
    "plt.ylabel(\"Probability\")\n",
    "plt.xticks(r)\n",
    "plt.xlim(0, n)\n",
    "plt.show()"
   ]
  },
  {
   "cell_type": "code",
   "execution_count": 15,
   "id": "edfc6fde-52f9-42b4-9a10-b31b3a3dcab9",
   "metadata": {},
   "outputs": [
    {
     "name": "stdout",
     "output_type": "stream",
     "text": [
      "<class 'numpy.ndarray'>\n",
      "(1000,)\n",
      "1000\n"
     ]
    },
    {
     "data": {
      "image/png": "[encoded data removed]",
      "text/plain": [
       "<Figure size 1000x600 with 1 Axes>"
      ]
     },
     "metadata": {},
     "output_type": "display_data"
    }
   ],
   "source": [
    "import numpy as np\n",
    "import matplotlib.pyplot as plt\n",
    "import seaborn as sns\n",
    "\n",
    "# Set experiment parameters\n",
    "n = 10        # number of trials per experiment\n",
    "p = 0.5       # probability of success\n",
    "num_experiments = 1000  # number of repeated experiments\n",
    "\n",
    "# Simulate binomial experiments\n",
    "results = np.random.binomial(n=n, p=p, size=num_experiments)\n",
    "#print(results)\n",
    "print(type(results))\n",
    "print(results.shape)\n",
    "print(len(results))\n",
    "# Visualization\n",
    "plt.figure(figsize=(10, 6))\n",
    "sns.histplot(results, bins=range(n + 2), kde=False, color='skyblue', edgecolor='black')\n",
    "plt.title(f'Binomial Distribution (n={n}, p={p}, {num_experiments} experiments)')\n",
    "plt.xlabel('Number of Successes')\n",
    "plt.ylabel('Frequency')\n",
    "plt.xticks(range(n + 1))\n",
    "plt.grid(True)\n",
    "plt.show()\n"
   ]
  },
  {
   "cell_type": "code",
   "execution_count": 16,
   "id": "c8eb08dc-e73e-41fe-af71-113be35a95f4",
   "metadata": {},
   "outputs": [
    {
     "name": "stdout",
     "output_type": "stream",
     "text": [
      "[7 6 7 6 7 4 5 8 7 7 8 7]\n",
      "[ 1  2  3  4  5  6  7  8  9 10 11 12]\n"
     ]
    }
   ],
   "source": [
    "size = 12\n",
    "x = np.random.binomial(n=30, p=0.2, size=size)\n",
    "print(x)\n",
    "print(np.arange(1, size+1))"
   ]
  },
  {
   "cell_type": "code",
   "execution_count": 17,
   "id": "4a4b673c-a415-4e38-a895-7b9390be65e3",
   "metadata": {},
   "outputs": [
    {
     "data": {
      "image/png": "[encoded data removed]",
      "text/plain": [
       "<Figure size 640x480 with 1 Axes>"
      ]
     },
     "metadata": {},
     "output_type": "display_data"
    }
   ],
   "source": [
    "plt.bar(np.arange(1, size+1), x)\n",
    "plt.show()"
   ]
  },
  {
   "cell_type": "markdown",
   "id": "c7f10e67-ec70-4081-b100-f7bcddfd4f66",
   "metadata": {},
   "source": [
    "# Simulate binomial experiments and visualize using bar plots"
   ]
  },
  {
   "cell_type": "markdown",
   "id": "101ca1db-da3b-4869-b3cd-def80d015fe0",
   "metadata": {},
   "source": [
    "## Understanding the np.random.binomial(n, p, size)"
   ]
  },
  {
   "cell_type": "code",
   "execution_count": 31,
   "id": "0d0c26bc-2d36-492e-b2a7-919b8e978915",
   "metadata": {},
   "outputs": [
    {
     "data": {
      "text/plain": [
       "4"
      ]
     },
     "execution_count": 31,
     "metadata": {},
     "output_type": "execute_result"
    }
   ],
   "source": [
    "np.random.binomial(n=10, p=0.6)"
   ]
  },
  {
   "cell_type": "markdown",
   "id": "80ebc283-b51c-44ac-8e3e-34773d7d4f0a",
   "metadata": {},
   "source": [
    "**how I understand the line of code above?** \n",
    "\n",
    "\"from $n$ trials of experiment, with the probability success of $p$, how many of the trials will be successful?\""
   ]
  },
  {
   "cell_type": "code",
   "execution_count": 37,
   "id": "a173a049-0745-4d21-aebc-5b677c7c7bf0",
   "metadata": {},
   "outputs": [],
   "source": [
    "binom_dist = np.random.binomial(n=10, p=0.6, size=1000)\n",
    "# from 10 trials of an experiment, how many of them will be successful? (p=probability of success, size=repetetion of that n trials)"
   ]
  },
  {
   "cell_type": "code",
   "execution_count": 50,
   "id": "2d49e532-8dbd-44e4-b530-366bb4a753f3",
   "metadata": {},
   "outputs": [
    {
     "data": {
      "text/plain": [
       "(array([ 1,  2,  3,  4,  5,  6,  7,  8,  9, 10]),\n",
       " array([  2,  18,  49,  97, 186, 243, 226, 124,  47,   8], dtype=int64))"
      ]
     },
     "execution_count": 50,
     "metadata": {},
     "output_type": "execute_result"
    }
   ],
   "source": [
    "# let's visualize the distribution\n",
    "# x and y axes\n",
    "freq = np.unique(binom_dist, return_counts=True)\n",
    "freq # returns tuple "
   ]
  },
  {
   "cell_type": "code",
   "execution_count": 56,
   "id": "e958e8e8-9066-4c94-9c50-6419a4729ce0",
   "metadata": {},
   "outputs": [
    {
     "data": {
      "image/png": "[encoded data removed]",
      "text/plain": [
       "<Figure size 640x480 with 1 Axes>"
      ]
     },
     "metadata": {},
     "output_type": "display_data"
    }
   ],
   "source": [
    "plt.bar(freq[0], freq[1])\n",
    "plt.xticks(freq[0])\n",
    "plt.xlabel(\"Number of succsses out of 10 trials of an experiment\")\n",
    "plt.ylabel(\"Frequency out of 1000 repetitions\")\n",
    "#plt.grid(True)\n",
    "plt.show()"
   ]
  },
  {
   "cell_type": "code",
   "execution_count": null,
   "id": "a77a0878-14ca-4d03-ba99-e949e0dfb68d",
   "metadata": {},
   "outputs": [],
   "source": []
  }
 ],
 "metadata": {
  "kernelspec": {
   "display_name": "Python 3 (ipykernel)",
   "language": "python",
   "name": "python3"
  },
  "language_info": {
   "codemirror_mode": {
    "name": "ipython",
    "version": 3
   },
   "file_extension": ".py",
   "mimetype": "text/x-python",
   "name": "python",
   "nbconvert_exporter": "python",
   "pygments_lexer": "ipython3",
   "version": "3.12.7"
  }
 },
 "nbformat": 4,
 "nbformat_minor": 5
}
