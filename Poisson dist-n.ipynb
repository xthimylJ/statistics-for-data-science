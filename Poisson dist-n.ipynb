{
 "cells": [
  {
   "cell_type": "code",
   "execution_count": 1,
   "id": "2e38d4d5-dacc-4e70-8ce6-b979aae4c598",
   "metadata": {},
   "outputs": [],
   "source": [
    "import numpy as np\n",
    "from scipy.stats import poisson\n",
    "import matplotlib.pyplot as plt"
   ]
  },
  {
   "cell_type": "markdown",
   "id": "ae5ad3ae-14bc-4f5f-8f5e-068cde94673e",
   "metadata": {},
   "source": [
    "## Solving probability word problems"
   ]
  },
  {
   "cell_type": "markdown",
   "id": "857e417d-477b-4cf4-a856-321cf773092a",
   "metadata": {},
   "source": [
    "**Example 1**: A small business recieves, on average, 12 customer per day. What is the probability that the business will recieve  \n",
    "exactly 8 customers in one day? "
   ]
  },
  {
   "cell_type": "code",
   "execution_count": 3,
   "id": "959a67cd-ac11-4e5a-8311-04e24854c3f9",
   "metadata": {},
   "outputs": [
    {
     "name": "stdout",
     "output_type": "stream",
     "text": [
      "the probability of getting 8 customers in one day is: 7.000000000000001%\n"
     ]
    }
   ],
   "source": [
    "# solution\n",
    "mean = 12\n",
    "rand_var = 8\n",
    "prob = poisson.pmf(8, 12)\n",
    "print(f\"the probability of getting 8 customers in one day is: {round(prob, 2)*100}%\")"
   ]
  },
  {
   "cell_type": "markdown",
   "id": "b4fb8183-51ed-4efb-94d4-3480e0df5c54",
   "metadata": {},
   "source": [
    "**Example 2**: A student recieves, on average, 7 messages in a 2 hour period. (a) What is the probability  \n",
    "of recieving exactly 9 messages in a 2 hour period? (b) What is the probability that the student will get exactly  \n",
    "24 messages in an 8 hour period? "
   ]
  },
  {
   "cell_type": "code",
   "execution_count": 6,
   "id": "820c637b-e612-407e-bff6-45b1693dccd7",
   "metadata": {},
   "outputs": [
    {
     "name": "stdout",
     "output_type": "stream",
     "text": [
      "the probability of getting exactly 9 messages in a 2 hour period is: 10.0%\n"
     ]
    }
   ],
   "source": [
    "# solution (a)\n",
    "prob2 = poisson.pmf(9, 7)\n",
    "print(f\"the probability of getting exactly 9 messages in a 2 hour period is: {round(prob2, 2)*100}%\")"
   ]
  },
  {
   "cell_type": "code",
   "execution_count": 7,
   "id": "81ee28b6-e737-487d-b429-0e1eb7bcaf32",
   "metadata": {},
   "outputs": [
    {
     "name": "stdout",
     "output_type": "stream",
     "text": [
      "the probability of getting exactly 24 messages in an 8 hour period is: 6.0%\n"
     ]
    }
   ],
   "source": [
    "# solution (b): when time period is not the same\n",
    "# we need to calculate a new lambda: mu2/mu1 = t2/t1\n",
    "new_labmda = 28\n",
    "rand_var2 = 24\n",
    "prob3 = poisson.pmf(24, 28)\n",
    "print(f\"the probability of getting exactly 24 messages in an 8 hour period is: {round(prob3, 2)*100}%\")"
   ]
  },
  {
   "cell_type": "markdown",
   "id": "83470a22-f379-4216-965d-594320c1f04a",
   "metadata": {},
   "source": [
    "**Example 3**: A small business recieves, on average, 8 calls per hour. (a)  What is the probability that  \n",
    "the business will recieve exactly 7 calls in one hour? (b)  What is the probability that the business will recieve,  \n",
    "**at most**, 5 calls in one hour? (c)  What is the probability that the business will recieve more than 6 calls  \n",
    "in one hour?"
   ]
  },
  {
   "cell_type": "code",
   "execution_count": 8,
   "id": "42c5023b-c652-4d13-8343-a3cb5bd3923f",
   "metadata": {},
   "outputs": [
    {
     "name": "stdout",
     "output_type": "stream",
     "text": [
      "the probability of getting exactly 7 calls: 14.000000000000002%\n"
     ]
    }
   ],
   "source": [
    "# solution (a)\n",
    "prob4 = poisson.pmf(7, 8)\n",
    "print(f\"the probability of getting exactly 7 calls: {round(prob4,2)*100}%\")"
   ]
  },
  {
   "cell_type": "code",
   "execution_count": 11,
   "id": "693e753e-0d41-4741-9f7e-628e06d5ac0a",
   "metadata": {},
   "outputs": [
    {
     "name": "stdout",
     "output_type": "stream",
     "text": [
      "the probability of getting at most 5 call in one hour: 19.0%\n"
     ]
    }
   ],
   "source": [
    "# solution (b): \"at most\" means rand_var <= 5 here\n",
    "prob5 = poisson.cdf(5, 8)\n",
    "print(f\"the probability of getting at most 5 call in one hour: {round(prob5,2)*100}%\")"
   ]
  },
  {
   "cell_type": "code",
   "execution_count": 12,
   "id": "cb5da446-5e46-4457-8723-92617d2fdb21",
   "metadata": {},
   "outputs": [
    {
     "name": "stdout",
     "output_type": "stream",
     "text": [
      "the probability of getting more than 6 call in one hour: 69.0%\n"
     ]
    }
   ],
   "source": [
    "# soluton (c): \"more than\" means 1-cdf\n",
    "prob6 = 1 - poisson.cdf(6, 8)\n",
    "print(f\"the probability of getting more than 6 call in one hour: {round(prob6,2)*100}%\")"
   ]
  },
  {
   "cell_type": "code",
   "execution_count": null,
   "id": "c12c8908-1065-4015-a10e-46565eab9254",
   "metadata": {},
   "outputs": [],
   "source": []
  }
 ],
 "metadata": {
  "kernelspec": {
   "display_name": "Python 3 (ipykernel)",
   "language": "python",
   "name": "python3"
  },
  "language_info": {
   "codemirror_mode": {
    "name": "ipython",
    "version": 3
   },
   "file_extension": ".py",
   "mimetype": "text/x-python",
   "name": "python",
   "nbconvert_exporter": "python",
   "pygments_lexer": "ipython3",
   "version": "3.12.7"
  }
 },
 "nbformat": 4,
 "nbformat_minor": 5
}
