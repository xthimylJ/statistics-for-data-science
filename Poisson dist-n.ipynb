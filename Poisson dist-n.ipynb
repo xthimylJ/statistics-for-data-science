{
 "cells": [
  {
   "cell_type": "code",
   "execution_count": 1,
   "id": "2e38d4d5-dacc-4e70-8ce6-b979aae4c598",
   "metadata": {},
   "outputs": [],
   "source": [
    "import numpy as np\n",
    "from scipy.stats import poisson\n",
    "import matplotlib.pyplot as plt"
   ]
  },
  {
   "cell_type": "markdown",
   "id": "ae5ad3ae-14bc-4f5f-8f5e-068cde94673e",
   "metadata": {},
   "source": [
    "## Solving probability word problems"
   ]
  },
  {
   "cell_type": "markdown",
   "id": "59ee6018-7b0d-4940-94d8-17d23ada50f5",
   "metadata": {},
   "source": [
    "$$\n",
    "P(X = k) = \\frac{\\lambda^k e^{-\\lambda}}{k!}\n",
    "$$\n"
   ]
  },
  {
   "cell_type": "markdown",
   "id": "857e417d-477b-4cf4-a856-321cf773092a",
   "metadata": {},
   "source": [
    "**Example 1**: A small business recieves, on average, 12 customer per day. What is the probability that the business will recieve  \n",
    "exactly 8 customers in one day? "
   ]
  },
  {
   "cell_type": "code",
   "execution_count": 2,
   "id": "959a67cd-ac11-4e5a-8311-04e24854c3f9",
   "metadata": {},
   "outputs": [
    {
     "name": "stdout",
     "output_type": "stream",
     "text": [
      "the probability of getting 8 customers in one day is: 7.000000000000001%\n"
     ]
    }
   ],
   "source": [
    "# solution\n",
    "mean = 12\n",
    "rand_var = 8\n",
    "prob = poisson.pmf(8, 12)\n",
    "print(f\"the probability of getting 8 customers in one day is: {round(prob, 2)*100}%\")"
   ]
  },
  {
   "cell_type": "markdown",
   "id": "b4fb8183-51ed-4efb-94d4-3480e0df5c54",
   "metadata": {},
   "source": [
    "**Example 2**: A student recieves, on average, 7 messages in a 2 hour period. (a) What is the probability  \n",
    "of recieving exactly 9 messages in a 2 hour period? (b) What is the probability that the student will get exactly  \n",
    "24 messages in an 8 hour period? "
   ]
  },
  {
   "cell_type": "code",
   "execution_count": 3,
   "id": "820c637b-e612-407e-bff6-45b1693dccd7",
   "metadata": {},
   "outputs": [
    {
     "name": "stdout",
     "output_type": "stream",
     "text": [
      "the probability of getting exactly 9 messages in a 2 hour period is: 10.0%\n"
     ]
    }
   ],
   "source": [
    "# solution (a)\n",
    "prob2 = poisson.pmf(9, 7)\n",
    "print(f\"the probability of getting exactly 9 messages in a 2 hour period is: {round(prob2, 2)*100}%\")"
   ]
  },
  {
   "cell_type": "code",
   "execution_count": 4,
   "id": "81ee28b6-e737-487d-b429-0e1eb7bcaf32",
   "metadata": {},
   "outputs": [
    {
     "name": "stdout",
     "output_type": "stream",
     "text": [
      "the probability of getting exactly 24 messages in an 8 hour period is: 6.0%\n"
     ]
    }
   ],
   "source": [
    "# solution (b): when time period is not the same\n",
    "# we need to calculate a new lambda: mu2/mu1 = t2/t1\n",
    "new_labmda = 28\n",
    "rand_var2 = 24\n",
    "prob3 = poisson.pmf(24, 28)\n",
    "print(f\"the probability of getting exactly 24 messages in an 8 hour period is: {round(prob3, 2)*100}%\")"
   ]
  },
  {
   "cell_type": "markdown",
   "id": "83470a22-f379-4216-965d-594320c1f04a",
   "metadata": {},
   "source": [
    "**Example 3**: A small business recieves, on average, 8 calls per hour. (a)  What is the probability that  \n",
    "the business will recieve exactly 7 calls in one hour? (b)  What is the probability that the business will recieve,  \n",
    "**at most**, 5 calls in one hour? (c)  What is the probability that the business will recieve more than 6 calls  \n",
    "in one hour?"
   ]
  },
  {
   "cell_type": "code",
   "execution_count": 5,
   "id": "42c5023b-c652-4d13-8343-a3cb5bd3923f",
   "metadata": {},
   "outputs": [
    {
     "name": "stdout",
     "output_type": "stream",
     "text": [
      "the probability of getting exactly 7 calls: 14.000000000000002%\n"
     ]
    }
   ],
   "source": [
    "# solution (a)\n",
    "prob4 = poisson.pmf(7, 8)\n",
    "print(f\"the probability of getting exactly 7 calls: {round(prob4,2)*100}%\")"
   ]
  },
  {
   "cell_type": "code",
   "execution_count": 6,
   "id": "693e753e-0d41-4741-9f7e-628e06d5ac0a",
   "metadata": {},
   "outputs": [
    {
     "name": "stdout",
     "output_type": "stream",
     "text": [
      "the probability of getting at most 5 call in one hour: 19.0%\n"
     ]
    }
   ],
   "source": [
    "# solution (b): \"at most\" means rand_var <= 5 here\n",
    "prob5 = poisson.cdf(5, 8)\n",
    "print(f\"the probability of getting at most 5 call in one hour: {round(prob5,2)*100}%\")"
   ]
  },
  {
   "cell_type": "code",
   "execution_count": 7,
   "id": "cb5da446-5e46-4457-8723-92617d2fdb21",
   "metadata": {},
   "outputs": [
    {
     "name": "stdout",
     "output_type": "stream",
     "text": [
      "the probability of getting more than 6 call in one hour: 69.0%\n"
     ]
    }
   ],
   "source": [
    "# soluton (c): \"more than\" means 1-cdf\n",
    "prob6 = 1 - poisson.cdf(6, 8)\n",
    "print(f\"the probability of getting more than 6 call in one hour: {round(prob6,2)*100}%\")"
   ]
  },
  {
   "cell_type": "markdown",
   "id": "f242da6f-1198-4ed1-a97f-388607806c63",
   "metadata": {},
   "source": [
    "## Graphing Poisson distribution"
   ]
  },
  {
   "cell_type": "code",
   "execution_count": 11,
   "id": "6d8b9a4e-bafb-47ab-aa5c-c4fdf564ddc2",
   "metadata": {},
   "outputs": [
    {
     "name": "stdout",
     "output_type": "stream",
     "text": [
      "sample with numpy: [1 5 3 4 4 7 9 3 7 3]\n",
      "sample with scipy: [6 6 7 5 5 4 3 4 5 2]\n"
     ]
    }
   ],
   "source": [
    "lambda_val = 5\n",
    "size = 10\n",
    "# example 1: with numpy\n",
    "poisson_sample = np.random.poisson(lambda_val, size)\n",
    "print(f\"sample with numpy: {poisson_sample}\")\n",
    "\n",
    "# example 2: with scipy.stats.poisson\n",
    "poisson_sample2 = poisson.rvs(mu=lambda_val, size=size)\n",
    "print(f\"sample with scipy: {poisson_sample2}\")"
   ]
  },
  {
   "cell_type": "code",
   "execution_count": 12,
   "id": "abf858a9-13b6-4873-86d2-b194cca3d96f",
   "metadata": {},
   "outputs": [
    {
     "data": {
      "text/plain": [
       "array([0.03368973, 0.17546737, 0.1403739 , 0.17546737, 0.17546737,\n",
       "       0.10444486, 0.03626558, 0.1403739 , 0.10444486, 0.1403739 ])"
      ]
     },
     "execution_count": 12,
     "metadata": {},
     "output_type": "execute_result"
    }
   ],
   "source": [
    "# pmf: array of values\n",
    "prob_array = poisson.pmf(poisson_sample, lambda_val)\n",
    "prob_array"
   ]
  },
  {
   "cell_type": "code",
   "execution_count": 13,
   "id": "f6d0d3f8-a0ee-4d3d-b9fe-f26b7b372aec",
   "metadata": {},
   "outputs": [
    {
     "data": {
      "text/plain": [
       "array([0.76218346, 0.76218346, 0.86662833, 0.61596065, 0.61596065,\n",
       "       0.44049329, 0.26502592, 0.44049329, 0.61596065, 0.12465202])"
      ]
     },
     "execution_count": 13,
     "metadata": {},
     "output_type": "execute_result"
    }
   ],
   "source": [
    "# cdf: array of cdf values\n",
    "cdf_array = poisson.cdf(poisson_sample2, lambda_val)\n",
    "cdf_array"
   ]
  },
  {
   "cell_type": "markdown",
   "id": "9f0ebdd5-1193-42af-a193-f913b467cb0c",
   "metadata": {},
   "source": [
    "### Stem graph"
   ]
  },
  {
   "cell_type": "code",
   "execution_count": 18,
   "id": "932ee801-f0c6-4e35-bfa9-863103aa82e0",
   "metadata": {},
   "outputs": [],
   "source": [
    "k_values = np.arange(1, 11)\n",
    "mean_val = 5"
   ]
  },
  {
   "cell_type": "code",
   "execution_count": 24,
   "id": "93c97cfe-6646-4841-a50b-d72fb07c38d6",
   "metadata": {},
   "outputs": [
    {
     "data": {
      "image/png": "[encoded data removed]",
      "text/plain": [
       "<Figure size 640x480 with 1 Axes>"
      ]
     },
     "metadata": {},
     "output_type": "display_data"
    }
   ],
   "source": [
    "# stem graph\n",
    "pmf_probs = poisson.pmf(k_values, mean_val)\n",
    "\n",
    "plt.stem(k_values, pmf_probs*100)\n",
    "plt.xticks(k_values)\n",
    "plt.xlabel(\"number of events\")\n",
    "plt.ylabel(\"probability in percents\")\n",
    "plt.title(\"Poisson Distribution\")\n",
    "plt.show()"
   ]
  },
  {
   "cell_type": "markdown",
   "id": "2c4c1f7c-751a-4afc-a9f9-468ac9e9b482",
   "metadata": {},
   "source": [
    "### Histogram"
   ]
  },
  {
   "cell_type": "code",
   "execution_count": 26,
   "id": "0dddc651-e4a2-4a02-8e2c-113d01e94bcf",
   "metadata": {},
   "outputs": [],
   "source": [
    "sample = np.random.poisson(mean_val, size=1000)\n",
    "#sample"
   ]
  },
  {
   "cell_type": "code",
   "execution_count": 41,
   "id": "bb04f80f-f41e-4ab8-b811-66f801d8edee",
   "metadata": {},
   "outputs": [
    {
     "data": {
      "image/png": "[encoded data removed]",
      "text/plain": [
       "<Figure size 640x480 with 1 Axes>"
      ]
     },
     "metadata": {},
     "output_type": "display_data"
    }
   ],
   "source": [
    "plt.hist(sample, bins=np.arange(1, 16)-0.5, edgecolor=\"black\", color=\"skyblue\", alpha=0.7)\n",
    "plt.xticks(np.arange(0, 16))\n",
    "plt.xlabel(\"number of events\")\n",
    "plt.ylabel(\"count\")\n",
    "#plt.title(\"\")\n",
    "plt.show()"
   ]
  },
  {
   "cell_type": "code",
   "execution_count": null,
   "id": "981a5dd4-8799-45e5-8585-91edc8395202",
   "metadata": {},
   "outputs": [],
   "source": []
  },
  {
   "cell_type": "code",
   "execution_count": null,
   "id": "46a271e5-39d2-4b31-8bdf-3aa06e6cc08a",
   "metadata": {},
   "outputs": [],
   "source": []
  },
  {
   "cell_type": "code",
   "execution_count": null,
   "id": "a27692ea-267d-4be7-b45d-a96984fccd0e",
   "metadata": {},
   "outputs": [],
   "source": []
  }
 ],
 "metadata": {
  "kernelspec": {
   "display_name": "Python 3 (ipykernel)",
   "language": "python",
   "name": "python3"
  },
  "language_info": {
   "codemirror_mode": {
    "name": "ipython",
    "version": 3
   },
   "file_extension": ".py",
   "mimetype": "text/x-python",
   "name": "python",
   "nbconvert_exporter": "python",
   "pygments_lexer": "ipython3",
   "version": "3.12.7"
  }
 },
 "nbformat": 4,
 "nbformat_minor": 5
}
