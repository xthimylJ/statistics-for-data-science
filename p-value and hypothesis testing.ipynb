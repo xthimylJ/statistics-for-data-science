{
 "cells": [
  {
   "cell_type": "markdown",
   "id": "ba8c6feb-7291-460d-a80a-435939a87f18",
   "metadata": {},
   "source": [
    "# What is p-value?"
   ]
  },
  {
   "cell_type": "markdown",
   "id": "d90063c6-d123-4e0e-9a4d-abbeb0fb6425",
   "metadata": {},
   "source": [
    "p-value is a probability of getting a certain result, if a null hypothesis is true"
   ]
  },
  {
   "cell_type": "markdown",
   "id": "f4c7920a-9df4-46cd-a32a-0c77958ba375",
   "metadata": {},
   "source": [
    "**Exmample 1:** If the coin is really fair, how likely is it to get 9 tails of of 10 coin flips?  \n",
    "here,  \n",
    "$H_0: p=0.5$ coin is fair  \n",
    "$H_a: p \\neq 0.5$ coin is not fair"
   ]
  },
  {
   "cell_type": "code",
   "execution_count": 7,
   "id": "6cf3f0a1-529f-4780-8090-d9f3f87378dd",
   "metadata": {},
   "outputs": [],
   "source": [
    "import scipy.stats as stats"
   ]
  },
  {
   "cell_type": "code",
   "execution_count": 8,
   "id": "ee5a27cd-48c5-4189-a222-62ea3c9d80a0",
   "metadata": {},
   "outputs": [
    {
     "name": "stdout",
     "output_type": "stream",
     "text": [
      "the p-value: 0.01\n"
     ]
    }
   ],
   "source": [
    "# solution:\n",
    "p = stats.binom.pmf(9,10,0.5)\n",
    "print(f\"the p-value: {round(p, 2)}\")"
   ]
  },
  {
   "cell_type": "markdown",
   "id": "5a7d9a1f-592d-4f24-a384-374f42d31e6e",
   "metadata": {},
   "source": [
    "**interpreting p-value:** the probability of getting 9 tails out of 10 coin flips is less than 1% if coin is truly fair.  \n",
    "Maybe we should reject the $H_0$, meaning that coin is not fair"
   ]
  },
  {
   "cell_type": "code",
   "execution_count": null,
   "id": "280fc3b3-3416-4a81-a099-5b375e0bf784",
   "metadata": {},
   "outputs": [],
   "source": []
  }
 ],
 "metadata": {
  "kernelspec": {
   "display_name": "Python 3 (ipykernel)",
   "language": "python",
   "name": "python3"
  },
  "language_info": {
   "codemirror_mode": {
    "name": "ipython",
    "version": 3
   },
   "file_extension": ".py",
   "mimetype": "text/x-python",
   "name": "python",
   "nbconvert_exporter": "python",
   "pygments_lexer": "ipython3",
   "version": "3.12.7"
  }
 },
 "nbformat": 4,
 "nbformat_minor": 5
}
