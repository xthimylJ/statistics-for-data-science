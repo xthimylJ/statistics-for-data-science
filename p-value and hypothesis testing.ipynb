{
 "cells": [
  {
   "cell_type": "markdown",
   "id": "ba8c6feb-7291-460d-a80a-435939a87f18",
   "metadata": {},
   "source": [
    "# What is p-value?"
   ]
  },
  {
   "cell_type": "markdown",
   "id": "d90063c6-d123-4e0e-9a4d-abbeb0fb6425",
   "metadata": {},
   "source": [
    "p-value is a probability of getting a certain result, if a null hypothesis is true"
   ]
  },
  {
   "cell_type": "markdown",
   "id": "f4c7920a-9df4-46cd-a32a-0c77958ba375",
   "metadata": {},
   "source": [
    "**Exmample 1:** If the coin is really fair, how likely is it to get 9 tails of of 10?  \n",
    "here,  \n",
    "$H_0: p=0.5$ coin is fair  \n",
    "$H_a: p \\neq 0.5$ coin is not fair"
   ]
  },
  {
   "cell_type": "markdown",
   "id": "9c5e6e52-b5b6-4154-8b84-eb5372553f2c",
   "metadata": {},
   "source": [
    "how"
   ]
  }
 ],
 "metadata": {
  "kernelspec": {
   "display_name": "Python 3 (ipykernel)",
   "language": "python",
   "name": "python3"
  },
  "language_info": {
   "codemirror_mode": {
    "name": "ipython",
    "version": 3
   },
   "file_extension": ".py",
   "mimetype": "text/x-python",
   "name": "python",
   "nbconvert_exporter": "python",
   "pygments_lexer": "ipython3",
   "version": "3.12.7"
  }
 },
 "nbformat": 4,
 "nbformat_minor": 5
}
