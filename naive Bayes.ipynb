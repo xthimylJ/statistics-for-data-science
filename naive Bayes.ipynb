{
 "cells": [
  {
   "cell_type": "markdown",
   "id": "4a1b0dde-1529-4964-87d3-ac9ff1356e9c",
   "metadata": {},
   "source": [
    "[my journey of understanding this shit](https://chatgpt.com/share/689cb05c-076c-800a-ae85-f5c81d6f1d00)"
   ]
  },
  {
   "cell_type": "markdown",
   "id": "d77f254f-9223-46f0-a374-1828a5a647bb",
   "metadata": {},
   "source": [
    "# Bayes Theorem for machine learning"
   ]
  },
  {
   "cell_type": "markdown",
   "id": "982c74ca-60de-4fb9-818b-8230578edcc5",
   "metadata": {},
   "source": [
    "Bayes theorem provides a probabilistic model to describe the relationship between data (D) and hypothesis (h);  \n",
    "$$P (h|D)$$\n",
    "\"What is the probability of a hypothesis given data\"  \n",
    "$\\frac{P (h|D) = P (D|h) \\cdot P (h)}{P (D)} $"
   ]
  },
  {
   "cell_type": "markdown",
   "id": "f3c2b62a-4efe-410f-b82b-897147816981",
   "metadata": {},
   "source": [
    "$P (h|D)  - $ posterior probability  \n",
    "$P (h) - $ prior probability  \n",
    "$P (D|h) - $ likelihood"
   ]
  },
  {
   "cell_type": "markdown",
   "id": "35e7965e-b2c6-4d4c-94a5-4f1f0fe2d4d0",
   "metadata": {},
   "source": [
    "The optimization or seeking the hypothesis with maximum posterior probability in modeling is called  \n",
    "\"Maximum a posterior\" or MAP"
   ]
  },
  {
   "cell_type": "markdown",
   "id": "950379bf-43fc-41b3-a934-ea52ad88153f",
   "metadata": {},
   "source": [
    "## Naive Bayes"
   ]
  },
  {
   "cell_type": "markdown",
   "id": "98e8de3a-3d81-415c-8d77-015dd3580e50",
   "metadata": {},
   "source": [
    "- for classification problems: $P (classN|data) $"
   ]
  },
  {
   "cell_type": "markdown",
   "id": "c3925010-8b92-47c0-abaa-d75401abfcb6",
   "metadata": {},
   "source": [
    "For example, a classification problem may have k class labels y1, y2, …, yk and n input variables (columns, features), X1, X2, …, Xn.  \n",
    "We can calculate the conditional probability for a class label with a given instance or set of input values for each column x1, x2, …, xn as follows:  \n",
    "- P(yi | x1, x2, …, xn)  \n",
    "x1, x2, x3 ... xn -> row vector of a data point"
   ]
  },
  {
   "cell_type": "markdown",
   "id": "7cf9dbeb-1648-4d99-8a2b-663053470b89",
   "metadata": {},
   "source": [
    "-  P(yi | x1, x2, …, xn) = P(x1, x2, …, xn | yi) * P(yi)\n",
    "-  P(yi | x1, x2, …, xn) = P(x1|yi) * P(x2|yi) * … P(xn|yi) * P(yi)"
   ]
  },
  {
   "cell_type": "markdown",
   "id": "18e56f91-11f8-4de8-bada-29bcce1f550b",
   "metadata": {},
   "source": [
    "the hardest thing here is to calculate P(x1|yi) * P(x2|yi) * … P(xn|yi)"
   ]
  },
  {
   "cell_type": "code",
   "execution_count": 1,
   "id": "6aabd2fa-dbed-4958-82bf-5d20d35ba41f",
   "metadata": {},
   "outputs": [],
   "source": [
    "import numpy as np\n",
    "import pandas as pd\n",
    "from sklearn.datasets import make_blobs\n",
    "import matplotlib as plt\n",
    "import seaborn as sns\n",
    "from scipy.stats import norm"
   ]
  },
  {
   "cell_type": "code",
   "execution_count": 2,
   "id": "56ad5c3f-a36c-4018-b7db-e49e5030a363",
   "metadata": {},
   "outputs": [],
   "source": [
    "def fit_distribution(data): # data here is a feature - column, vector\n",
    "\t# estimate parameters\n",
    "\tmu = np.mean(data)\n",
    "\tsigma = np.std(data)\n",
    "\tprint(mu, sigma)\n",
    "\t# fit distribution\n",
    "\tdist = norm(mu, sigma) # dist object is not a number or array of numbers but a frozen distribution.\n",
    "\treturn dist"
   ]
  },
  {
   "cell_type": "code",
   "execution_count": 3,
   "id": "d2527c96-dc2b-4b37-bb06-e803b799ae6e",
   "metadata": {},
   "outputs": [],
   "source": [
    "def probability(X, prior, dist1, dist2):\n",
    "    return prior*dist1.pdf(X[0])*dist2.pdf(X[1])"
   ]
  },
  {
   "cell_type": "code",
   "execution_count": 4,
   "id": "b26e4b6f-6bf6-43b2-8239-73743163debf",
   "metadata": {},
   "outputs": [],
   "source": [
    "X, y = make_blobs(n_samples=100, centers=2, n_features=2, random_state=1)"
   ]
  },
  {
   "cell_type": "code",
   "execution_count": 5,
   "id": "268f1f57-d2c0-4320-8f44-164acce4e368",
   "metadata": {},
   "outputs": [
    {
     "name": "stdout",
     "output_type": "stream",
     "text": [
      "(100, 2) (100,)\n",
      "\n"
     ]
    }
   ],
   "source": [
    "# let's have a look\n",
    "print(X.shape, y.shape)\n",
    "print()"
   ]
  },
  {
   "cell_type": "code",
   "execution_count": 6,
   "id": "8f456d1c-a664-4e6f-81cc-5df1a29b1983",
   "metadata": {},
   "outputs": [
    {
     "name": "stdout",
     "output_type": "stream",
     "text": [
      "[[-0.79415228  2.10495117]\n",
      " [-9.15155186 -4.81286449]\n",
      " [-3.10367371  3.90202401]\n",
      " [-1.42946517  5.16850105]\n",
      " [-7.4693868  -4.20198333]]\n",
      "[0 1 0 0 1]\n"
     ]
    }
   ],
   "source": [
    "print(X[:5])\n",
    "print(y[:5])"
   ]
  },
  {
   "cell_type": "code",
   "execution_count": 7,
   "id": "2030de6f-762f-4f8c-a965-7feb6f7c3595",
   "metadata": {},
   "outputs": [
    {
     "name": "stdout",
     "output_type": "stream",
     "text": [
      "[-0.79415228 -9.15155186 -3.10367371 -1.42946517 -7.4693868 ]\n"
     ]
    }
   ],
   "source": [
    "print(X[:5,0])"
   ]
  },
  {
   "cell_type": "code",
   "execution_count": 9,
   "id": "9260055c-3f3f-48c5-990f-53e1e33a9eca",
   "metadata": {},
   "outputs": [],
   "source": [
    "# sorting out classes\n",
    "Xy0 = X[y==0]\n",
    "Xy1 = X[y==1]"
   ]
  },
  {
   "cell_type": "code",
   "execution_count": 10,
   "id": "6898ac1f-f42f-44dc-ac91-b5fa26d517aa",
   "metadata": {},
   "outputs": [],
   "source": [
    "# calculating the prior conditional probability: P(yi)\n",
    "prior_class_0 = len(Xy0)/len(X)\n",
    "prior_class_1 = len(Xy1)/len(X)\n"
   ]
  },
  {
   "cell_type": "code",
   "execution_count": 12,
   "id": "3549317d-c184-481f-a954-598c37edb4da",
   "metadata": {},
   "outputs": [
    {
     "name": "stdout",
     "output_type": "stream",
     "text": [
      "-1.5632888906409914 0.787444265443213\n",
      "4.426680361487157 0.958296071258367\n",
      "-9.681177100524485 0.8943078901048118\n",
      "-3.9713794295185845 0.9308177595208521\n"
     ]
    }
   ],
   "source": [
    "# create frozen distributions: P(xn|yi)\n",
    "distX1y0 = fit_distribution(Xy0[:, 0])\n",
    "distX2y0 = fit_distribution(Xy0[:, 1])\n",
    "\n",
    "distX1y1 = fit_distribution(Xy1[:, 0])\n",
    "distX2y1 = fit_distribution(Xy1[:, 1])"
   ]
  },
  {
   "cell_type": "code",
   "execution_count": 17,
   "id": "3d822118-fa9c-4c86-9ac3-0d496b0f421a",
   "metadata": {},
   "outputs": [],
   "source": [
    "X_example = X[0]"
   ]
  },
  {
   "cell_type": "code",
   "execution_count": 18,
   "id": "e546c22a-7977-4df0-a057-6cf5eeb0f520",
   "metadata": {},
   "outputs": [],
   "source": [
    "# now we want to know P(yi|x0, x1)\n",
    "prob_class_0 = probability(X_example, prior_class_0, distX1y0, distX2y0) # probability of class 0 given X[0]\n",
    "prob_class_1 = probability(X_example, prior_class_1, distX1y1, distX2y1) # probability of class 1 given X[0]"
   ]
  },
  {
   "cell_type": "code",
   "execution_count": 21,
   "id": "7d3c4670-673d-439d-a4cd-1fba4a6aaa07",
   "metadata": {},
   "outputs": [
    {
     "name": "stdout",
     "output_type": "stream",
     "text": [
      "probability of class 0 given x11 and x12: 0.34776913685206173\n",
      "probability of class 1 given x11 and x12: 1.9210297039631055e-30\n"
     ]
    }
   ],
   "source": [
    "print(f\"probability of class 0 given x11 and x12: {prob_class_0*100}\")\n",
    "print(f\"probability of class 1 given x11 and x12: {prob_class_1*100}\")"
   ]
  },
  {
   "cell_type": "code",
   "execution_count": 20,
   "id": "01906af9-8592-4d5a-a4a0-6df58ff7ec8f",
   "metadata": {},
   "outputs": [
    {
     "data": {
      "text/plain": [
       "0"
      ]
     },
     "execution_count": 20,
     "metadata": {},
     "output_type": "execute_result"
    }
   ],
   "source": [
    "y[0]"
   ]
  },
  {
   "cell_type": "code",
   "execution_count": null,
   "id": "f34f2ebc-5cb5-4a12-9a20-9cc1b14fc6c4",
   "metadata": {},
   "outputs": [],
   "source": []
  }
 ],
 "metadata": {
  "kernelspec": {
   "display_name": "Python 3 (ipykernel)",
   "language": "python",
   "name": "python3"
  },
  "language_info": {
   "codemirror_mode": {
    "name": "ipython",
    "version": 3
   },
   "file_extension": ".py",
   "mimetype": "text/x-python",
   "name": "python",
   "nbconvert_exporter": "python",
   "pygments_lexer": "ipython3",
   "version": "3.12.7"
  }
 },
 "nbformat": 4,
 "nbformat_minor": 5
}
